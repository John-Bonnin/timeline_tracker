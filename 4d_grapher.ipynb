{
 "cells": [
  {
   "cell_type": "code",
   "execution_count": 5,
   "source": [
    "import numpy as np\n",
    "import yaml\n",
    "from matplotlib import pyplot as plt"
   ],
   "outputs": [],
   "metadata": {}
  },
  {
   "cell_type": "code",
   "execution_count": 6,
   "source": [
    "PEAKS       = \"Craggy Peaks\"\n",
    "RIVCAVE     = \"River Source\"\n",
    "LOOKOUTS    = \"Lookout Trees\"\n",
    "LAKE        = \"Lake\"\n",
    "TRAILHEAD   = \"Trailhead\"\n",
    "FORT        = \"Ruined Fort\",\n",
    "HOLDOUT     = \"Piper Tunnel Holdout\"\n",
    "REDOUBT     = \"Mysties' Redoubt\""
   ],
   "outputs": [],
   "metadata": {}
  },
  {
   "cell_type": "code",
   "execution_count": 7,
   "source": [
    "with open('assets/start_state.yml', 'r') as outfile:\n",
    "    char_dict = yaml.full_load(outfile)\n",
    "\n",
    "print(char_dict)"
   ],
   "outputs": [
    {
     "output_type": "stream",
     "name": "stdout",
     "text": [
      "{'Arrogatrix': {'name': 'Arrogatrix', 'pic': 'assets/Disreputiffany.png', 'plan': [('8', '2', '5'), ('10', '0', '15'), ('12', '3', '3'), ('14', '3', '4'), ('16', '3', '5'), ('18', '0', '15'), ('20', '0', '15')]}, 'Humies': {'name': 'Humies', 'pic': 'assets/military guy 2 token.png', 'plan': [('8', '2', '5'), ('10', '5', '5'), ('12', '5', '5'), ('14', '5', '5'), ('16', '5', '6'), ('18', '6', '7'), ('20', '7', '8')]}, 'Mysties': {'name': 'Mysties', 'pic': 'assets/ElfMadam.png', 'plan': [('8', '2', '5'), ('10', '1', '2'), ('12', '2', '2'), ('14', '2', '3'), ('16', '2', '4'), ('18', '2', '5'), ('20', '3', '5')]}, 'TDH': {'name': 'TDH', 'pic': 'assets/Tall Dark n Handsome.png', 'plan': [('8', '2', '5'), ('10', '1', '1'), ('12', '0', '15'), ('14', '0', '15'), ('16', '2', '1'), ('18', '0', '15'), ('20', '0', '15')]}}\n"
     ]
    }
   ],
   "metadata": {}
  },
  {
   "cell_type": "code",
   "execution_count": 8,
   "source": [
    "# Day starts at start time:\n",
    "start_time = 7\n",
    "# Day ends at nightfall, 8pm:\n",
    "end_time = 20\n",
    "# Name waypoints on the map\n",
    "locations = {\n",
    "            PEAKS       : [2,4],\n",
    "            RIVCAVE     : [1,3],\n",
    "            LOOKOUTS    : [4,3],\n",
    "            LAKE        : [4,2],\n",
    "            TRAILHEAD   : [4,1],\n",
    "            FORT        : [5,4],\n",
    "            HOLDOUT     : [6,2],\n",
    "            REDOUBT     : [3,3]\n",
    "            }"
   ],
   "outputs": [],
   "metadata": {}
  },
  {
   "cell_type": "code",
   "execution_count": 9,
   "source": [
    "parties = [\n",
    "            \"Milk Walker, Tick Boy\",\n",
    "            \"Aarfield Singer, Plant Pal\",\n",
    "            \"Bobfield Dogwalker, the Prophet\",\n",
    "            \"Mystietown\",\n",
    "            \"Coors Limestonebiter's outpost\",\n",
    "            \"Arrogatrix the Astounding\",\n",
    "            \"Tall Dark and Handsome\",\n",
    "            \"The Nartogardic Spohrlor\"\n",
    "            ]"
   ],
   "outputs": [],
   "metadata": {}
  },
  {
   "cell_type": "code",
   "execution_count": 10,
   "source": [
    "print(locations)"
   ],
   "outputs": [
    {
     "output_type": "stream",
     "name": "stdout",
     "text": [
      "{'Craggy Peaks': [2, 4], 'River Source': [1, 3], 'Lookout Trees': [4, 3], 'Lake': [4, 2], 'Trailhead': [4, 1], ('Ruined Fort',): [5, 4], 'Piper Tunnel Holdout': [6, 2], \"Mysties' Redoubt\": [3, 3]}\n"
     ]
    }
   ],
   "metadata": {}
  },
  {
   "cell_type": "code",
   "execution_count": 11,
   "source": [
    "for thing in char_dict:"
   ],
   "outputs": [
    {
     "output_type": "error",
     "ename": "SyntaxError",
     "evalue": "incomplete input (<ipython-input-11-ef54b1e74fde>, line 1)",
     "traceback": [
      "\u001b[1;36m  Cell \u001b[1;32mIn[11], line 1\u001b[1;36m\u001b[0m\n\u001b[1;33m    for thing in char_dict:\u001b[0m\n\u001b[1;37m                           ^\u001b[0m\n\u001b[1;31mSyntaxError\u001b[0m\u001b[1;31m:\u001b[0m incomplete input\n"
     ]
    }
   ],
   "metadata": {}
  },
  {
   "cell_type": "code",
   "execution_count": 12,
   "source": [
    "for thing in char_dict:\n",
    "    print(thing)"
   ],
   "outputs": [
    {
     "output_type": "stream",
     "name": "stdout",
     "text": [
      "Arrogatrix\n",
      "Humies\n",
      "Mysties\n",
      "TDH\n"
     ]
    }
   ],
   "metadata": {}
  },
  {
   "cell_type": "code",
   "execution_count": 13,
   "source": [
    "for thing in char_dict:\n",
    "    print(thing)"
   ],
   "outputs": [
    {
     "output_type": "stream",
     "name": "stdout",
     "text": [
      "Arrogatrix\n",
      "Humies\n",
      "Mysties\n",
      "TDH\n"
     ]
    }
   ],
   "metadata": {}
  },
  {
   "cell_type": "code",
   "execution_count": 14,
   "source": [
    "points = np.linspace(7,20,14)\n",
    "for thing in char_dict:\n",
    "    print(thing)"
   ],
   "outputs": [
    {
     "output_type": "stream",
     "name": "stdout",
     "text": [
      "Arrogatrix\n",
      "Humies\n",
      "Mysties\n",
      "TDH\n"
     ]
    }
   ],
   "metadata": {}
  }
 ],
 "nbformat": 4,
 "nbformat_minor": 2,
 "metadata": {
  "language_info": {
   "codemirror_mode": {
    "name": "ipython",
    "version": 3
   },
   "file_extension": ".py",
   "mimetype": "text/x-python",
   "name": "python",
   "nbconvert_exporter": "python",
   "pygments_lexer": "ipython3",
   "version": 3
  },
  "orig_nbformat": 4
 }
}